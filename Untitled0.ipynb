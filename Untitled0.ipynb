{
  "nbformat": 4,
  "nbformat_minor": 0,
  "metadata": {
    "colab": {
      "provenance": [],
      "authorship_tag": "ABX9TyMFPTgCFQjo8HGSMil+Mqi6",
      "include_colab_link": true
    },
    "kernelspec": {
      "name": "python3",
      "display_name": "Python 3"
    },
    "language_info": {
      "name": "python"
    }
  },
  "cells": [
    {
      "cell_type": "markdown",
      "metadata": {
        "id": "view-in-github",
        "colab_type": "text"
      },
      "source": [
        "<a href=\"https://colab.research.google.com/github/lhs02/lhs02/blob/main/Untitled0.ipynb\" target=\"_parent\"><img src=\"https://colab.research.google.com/assets/colab-badge.svg\" alt=\"Open In Colab\"/></a>"
      ]
    },
    {
      "cell_type": "code",
      "source": [
        "while True:\n",
        "    num1 = float(input(\"Digite o primeiro número: \"))\n",
        "    num2 = float(input(\"Digite o segundo número: \"))\n",
        "\n",
        "    print(\"\\nEscolha uma operação:\")\n",
        "    print(\"1. Soma\")\n",
        "    print(\"2. Subtração\")\n",
        "    print(\"3. Multiplicação\")\n",
        "    print(\"4. Divisão\")\n",
        "    print(\"5. Resto da divisão\")\n",
        "    print(\"6. Exponenciação\")\n",
        "    print(\"7. Maior\")\n",
        "    print(\"8. Menor\")\n",
        "    print(\"9. Igual\")\n",
        "    print(\"10. Diferente\")\n",
        "\n",
        "    opcao = input(\"Digite o número da operação desejada: \")\n",
        "\n",
        "    if opcao == \"1\":\n",
        "        resultado = num1 + num2\n",
        "        print(f\"O resultado da soma é: {resultado}\")\n",
        "    elif opcao == \"2\":\n",
        "        resultado = num1 - num2\n",
        "        print(f\"O resultado da subtração é: {resultado}\")\n",
        "    elif opcao == \"3\":\n",
        "        resultado = num1 * num2\n",
        "        print(f\"O resultado da multiplicação é: {resultado}\")\n",
        "    elif opcao == \"4\":\n",
        "        if num2 != 0:\n",
        "            resultado = num1 / num2\n",
        "            print(f\"O resultado da divisão é: {resultado}\")\n",
        "        else:\n",
        "            print(\"Erro: Divisão por zero não é permitida.\")\n",
        "    elif opcao == \"5\":\n",
        "        if num2 != 0:\n",
        "            resultado = num1 % num2\n",
        "            print(f\"O resto da divisão é: {resultado}\")\n",
        "        else:\n",
        "            print(\"Erro: Divisão por zero não é permitida.\")\n",
        "    elif opcao == \"6\":\n",
        "        resultado = num1 ** num2\n",
        "        print(f\"O resultado da exponenciação é: {resultado}\")\n",
        "    elif opcao == \"7\":\n",
        "        resultado = max(num1, num2)\n",
        "        print(f\"O maior número é: {resultado}\")\n",
        "    elif opcao == \"8\":\n",
        "        resultado = min(num1, num2)\n",
        "        print(f\"O menor número é: {resultado}\")\n",
        "    elif opcao == \"9\":\n",
        "        resultado = num1 == num2\n",
        "        print(f\"Os números são iguais? {resultado}\")\n",
        "    elif opcao == \"10\":\n",
        "        resultado = num1 != num2\n",
        "        print(f\"Os números são diferentes? {resultado}\")\n",
        "    else:\n",
        "        print(\"Opção inválida. Por favor, tente novamente.\")\n",
        "        continue\n",
        "    continuar = input(\"\\nDeseja realizar outra operação? (s/n): \").strip().lower()\n",
        "    if continuar != \"s\":\n",
        "        print(\"Saindo do programa. Obrigado!\")\n",
        "        break\n",
        "\n",
        "\n"
      ],
      "metadata": {
        "colab": {
          "base_uri": "https://localhost:8080/"
        },
        "id": "DgQD3ieudvf1",
        "outputId": "f8224de0-a47a-4418-f5f1-48ab170b4fd2"
      },
      "execution_count": null,
      "outputs": [
        {
          "output_type": "stream",
          "name": "stdout",
          "text": [
            "Digite o primeiro número: 5\n",
            "Digite o segundo número: 7\n",
            "\n",
            "Escolha uma operação:\n",
            "1. Soma\n",
            "2. Subtração\n",
            "3. Multiplicação\n",
            "4. Divisão\n",
            "5. Resto da divisão\n",
            "6. Exponenciação\n",
            "7. Maior\n",
            "8. Menor\n",
            "9. Igual\n",
            "10. Diferente\n",
            "Digite o número da operação desejada: 7\n",
            "O maior número é: 7.0\n"
          ]
        }
      ]
    }
  ]
}